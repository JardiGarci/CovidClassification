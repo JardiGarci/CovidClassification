{
 "cells": [
  {
   "cell_type": "code",
   "execution_count": 1,
   "metadata": {},
   "outputs": [],
   "source": [
    "import os\n",
    "import matplotlib.pyplot as plt\n",
    "from tensorflow import keras\n",
    "from Utils import SegGen\n",
    "from sklearn.model_selection import KFold\n",
    "import numpy as np\n",
    "import shutil"
   ]
  },
  {
   "cell_type": "markdown",
   "metadata": {},
   "source": [
    "Direcciones de imagenes de entrenamiento"
   ]
  },
  {
   "cell_type": "code",
   "execution_count": 7,
   "metadata": {},
   "outputs": [],
   "source": [
    "# Dirección de carpetas para entrenamiento\n",
    "train_path_rx =  'Data/Segmentacion/train/inputs' \n",
    "train_path_mask = 'Data/Segmentacion/train/targets'\n",
    "\n",
    "# Dirección de carpetas para validación\n",
    "validation_path_rx =  'Data/Segmentacion/validation/inputs' \n",
    "validation_path_mask = 'Data/Segmentacion/validation/targets'\n",
    "\n",
    "# Dirección de carpetas para entrenamiento\n",
    "test_path_rx =  'Data/Segmentacion/test/inputs' \n",
    "test_path_mask = 'Data/Segmentacion/test/targets'\n",
    "\n",
    "# Lista de imagenes dentro de las carpetas\n",
    "train_ids = np.array(os.listdir(train_path_rx))\n",
    "validation_ids = np.array(os.listdir(validation_path_rx))\n",
    "test_ids = np.array(os.listdir(test_path_rx))\n",
    "\n",
    "path_save_modelos = \"Models/Sementacion/Validacion\"\n"
   ]
  },
  {
   "cell_type": "markdown",
   "metadata": {},
   "source": [
    "Creación del modelo unet"
   ]
  },
  {
   "cell_type": "code",
   "execution_count": 3,
   "metadata": {},
   "outputs": [],
   "source": [
    "def down_block(x, filters, kernel_size=(3, 3), padding=\"same\", strides=1):\n",
    "    c = keras.layers.Conv2D(filters, kernel_size, padding=padding, strides=strides, activation=\"relu\")(x)\n",
    "    c = keras.layers.Conv2D(filters, kernel_size, padding=padding, strides=strides, activation=\"relu\")(c)\n",
    "    p = keras.layers.MaxPool2D((2, 2), (2, 2))(c)\n",
    "    return c, p\n",
    "\n",
    "def up_block(x, skip, filters, kernel_size=(3, 3), padding=\"same\", strides=1):\n",
    "    us = keras.layers.UpSampling2D((2, 2))(x)\n",
    "    concat = keras.layers.Concatenate()([us, skip])\n",
    "    c = keras.layers.Conv2D(filters, kernel_size, padding=padding, strides=strides, activation=\"relu\")(concat)\n",
    "    c = keras.layers.Conv2D(filters, kernel_size, padding=padding, strides=strides, activation=\"relu\")(c)\n",
    "    return c\n",
    "\n",
    "def bottleneck(x, filters, kernel_size=(3, 3), padding=\"same\", strides=1):\n",
    "    c = keras.layers.Conv2D(filters, kernel_size, padding=padding, strides=strides, activation=\"relu\")(x)\n",
    "    c = keras.layers.Conv2D(filters, kernel_size, padding=padding, strides=strides, activation=\"relu\")(c)\n",
    "    return c\n",
    "     \n",
    "\n",
    "def UNet(image_size,f = [16, 32, 64, 128, 256], activation = 'sigmoid'):\n",
    "\n",
    "    inputs = keras.layers.Input((image_size, image_size, 1))\n",
    "\n",
    "    p0 = inputs\n",
    "    c1, p1 = down_block(p0, f[0])  # 128 --> 64\n",
    "    c2, p2 = down_block(p1, f[1])  # 64  --> 32\n",
    "    c3, p3 = down_block(p2, f[2])  # 32  --> 16\n",
    "    c4, p4 = down_block(p3, f[3])  # 16  --> 8\n",
    "\n",
    "    bn = bottleneck(p4, f[4])\n",
    "\n",
    "    u1 = up_block(bn, c4, f[3])  # 8  --> 16\n",
    "    u2 = up_block(u1, c3, f[2])  # 16 --> 32\n",
    "    u3 = up_block(u2, c2, f[1])  # 32 --> 64\n",
    "    u4 = up_block(u3, c1, f[0])  # 64 --> 128\n",
    "\n",
    "    outputs = keras.layers.Conv2D(1, (1, 1), padding=\"same\", activation= activation)(u4)\n",
    "    model = keras.models.Model(inputs, outputs)\n",
    "    return model"
   ]
  },
  {
   "cell_type": "code",
   "execution_count": null,
   "metadata": {},
   "outputs": [],
   "source": [
    "Acuracy = []\n",
    "Loss = []"
   ]
  },
  {
   "cell_type": "code",
   "execution_count": 1,
   "metadata": {},
   "outputs": [
    {
     "ename": "NameError",
     "evalue": "name 'keras' is not defined",
     "output_type": "error",
     "traceback": [
      "\u001b[1;31m---------------------------------------------------------------------------\u001b[0m",
      "\u001b[1;31mNameError\u001b[0m                                 Traceback (most recent call last)",
      "Cell \u001b[1;32mIn[1], line 8\u001b[0m\n\u001b[0;32m      6\u001b[0m adam_value \u001b[38;5;241m=\u001b[39m \u001b[38;5;241m0.00005\u001b[39m                \u001b[38;5;66;03m# Valor Adam\u001b[39;00m\n\u001b[0;32m      7\u001b[0m epochs \u001b[38;5;241m=\u001b[39m \u001b[38;5;241m5\u001b[39m                         \u001b[38;5;66;03m# Número de épocas\u001b[39;00m\n\u001b[1;32m----> 8\u001b[0m Adam \u001b[38;5;241m=\u001b[39m \u001b[43mkeras\u001b[49m\u001b[38;5;241m.\u001b[39moptimizers\u001b[38;5;241m.\u001b[39mAdam(learning_rate\u001b[38;5;241m=\u001b[39madam_value)\n\u001b[0;32m     10\u001b[0m \u001b[38;5;66;03m# Generación de datos a partir de función\u001b[39;00m\n\u001b[0;32m     11\u001b[0m train_gen \u001b[38;5;241m=\u001b[39m SegGen(train_ids, train_path_rx, train_path_mask, batch_size\u001b[38;5;241m=\u001b[39mbatch_size, image_size\u001b[38;5;241m=\u001b[39mimage_size)\n",
      "\u001b[1;31mNameError\u001b[0m: name 'keras' is not defined"
     ]
    }
   ],
   "source": [
    "model_name =  'Unet_Sigmoid_1'      # Nombre del modelo\n",
    "image_size = 256                    # Tamano de las imágenes\n",
    "batch_size = 8                      # Tamano del batch\n",
    "f = [64, 128, 256, 512, 1024]       # Numéro de capas convolucionales\n",
    "activation = 'sigmoid'              # Función de activación\n",
    "adam_value = 0.00005                # Valor Adam\n",
    "epochs = 5                         # Número de épocas\n",
    "Adam = keras.optimizers.Adam(learning_rate=adam_value)\n",
    "\n",
    "# Generación de datos a partir de función\n",
    "train_gen = SegGen(train_ids, train_path_rx, train_path_mask, batch_size=batch_size, image_size=image_size)\n",
    "valid_gen = SegGen(validation_ids, validation_path_rx, validation_path_mask, batch_size=batch_size, image_size=image_size)\n",
    "\n",
    "train_steps = len(train_ids)//batch_size\n",
    "valid_steps = len(validation_ids)//batch_size\n",
    "\n",
    "model = UNet( image_size, f , activation)  # Creación del modelo U-Net\n",
    "model.compile(optimizer=Adam, loss=\"binary_crossentropy\", metrics=[\"acc\"])  # Ajuste de hiperparametros\n",
    "# Entrenamiento del modelo\n",
    "history = model.fit(train_gen, validation_data=valid_gen, steps_per_epoch=train_steps, validation_steps=valid_steps, epochs=epochs, verbose=1)\n",
    "\n",
    "Acuracy.append(history.history['val_acc'])\n",
    "Loss.append(history.history['val_loss'])\n",
    "\n",
    "path_save = os.path.join(path_save_modelos,model_name + '.keras') # Guardado del modelo\n",
    "model.save(path_save)"
   ]
  },
  {
   "cell_type": "code",
   "execution_count": 5,
   "metadata": {},
   "outputs": [
    {
     "name": "stdout",
     "output_type": "stream",
     "text": [
      "Epoch 1/5\n",
      "2714/2714 [==============================] - 1111s 408ms/step - loss: 0.1499 - acc: 0.9363 - val_loss: 0.0751 - val_acc: 0.9703\n",
      "Epoch 2/5\n",
      "2714/2714 [==============================] - 455s 168ms/step - loss: 0.0656 - acc: 0.9745 - val_loss: 0.0957 - val_acc: 0.9649\n",
      "Epoch 3/5\n",
      "2714/2714 [==============================] - 454s 167ms/step - loss: 0.0520 - acc: 0.9797 - val_loss: 0.0549 - val_acc: 0.9783\n",
      "Epoch 4/5\n",
      "2714/2714 [==============================] - 454s 167ms/step - loss: 0.0443 - acc: 0.9824 - val_loss: 0.0502 - val_acc: 0.9801\n",
      "Epoch 5/5\n",
      "2714/2714 [==============================] - 454s 167ms/step - loss: 0.0401 - acc: 0.9840 - val_loss: 0.0486 - val_acc: 0.9808\n"
     ]
    }
   ],
   "source": [
    "model_name =  'Unet_Sigmoid_2'   # Nombre del modelo\n",
    "image_size = 256                    # Tamano de las imágenes\n",
    "batch_size = 8                      # Tamano del batch\n",
    "f = [64, 128, 256, 512, 1024]       # Numéro de capas convolucionales\n",
    "activation = 'sigmoid'              # Función de activación\n",
    "adam_value = 0.00001                # Valor Adam\n",
    "epochs = 5                         # Número de épocas\n",
    "Adam = keras.optimizers.Adam(learning_rate=adam_value)\n",
    "\n",
    "# Generación de datos a partir de función\n",
    "train_gen = SegGen(train_ids, train_path_rx, train_path_mask, batch_size=batch_size, image_size=image_size)\n",
    "valid_gen = SegGen(validation_ids, validation_path_rx, validation_path_mask, batch_size=batch_size, image_size=image_size)\n",
    "\n",
    "train_steps = len(train_ids)//batch_size\n",
    "valid_steps = len(validation_ids)//batch_size\n",
    "\n",
    "model = UNet( image_size, f , activation)  # Creación del modelo U-Net\n",
    "model.compile(optimizer=Adam, loss=\"binary_crossentropy\", metrics=[\"acc\"])  # Ajuste de hiperparametros\n",
    "# Entrenamiento del modelo\n",
    "history = model.fit(train_gen, validation_data=valid_gen, steps_per_epoch=train_steps, validation_steps=valid_steps, epochs=epochs, verbose=1)\n",
    "\n",
    "Acuracy.append(history.history['val_acc'])\n",
    "Loss.append(history.history['val_loss'])\n",
    "\n",
    "path_save = os.path.join(path_save_modelos,model_name + '.keras')  # Guardado del modelo\n",
    "model.save(path_save)"
   ]
  },
  {
   "cell_type": "code",
   "execution_count": 7,
   "metadata": {},
   "outputs": [
    {
     "name": "stdout",
     "output_type": "stream",
     "text": [
      "Epoch 1/5\n",
      "2714/2714 [==============================] - 748s 275ms/step - loss: 0.1477 - acc: 0.9445 - val_loss: 0.0519 - val_acc: 0.9797\n",
      "Epoch 2/5\n",
      "2714/2714 [==============================] - 453s 167ms/step - loss: 0.0529 - acc: 0.9797 - val_loss: 0.1086 - val_acc: 0.9620\n",
      "Epoch 3/5\n",
      "2714/2714 [==============================] - 209s 77ms/step - loss: 0.0503 - acc: 0.9810 - val_loss: 0.0716 - val_acc: 0.9773\n",
      "Epoch 4/5\n",
      "2714/2714 [==============================] - 209s 77ms/step - loss: 0.0449 - acc: 0.9827 - val_loss: 0.0489 - val_acc: 0.9810\n",
      "Epoch 5/5\n",
      "2714/2714 [==============================] - 209s 77ms/step - loss: 0.0451 - acc: 0.9832 - val_loss: 0.0476 - val_acc: 0.9817\n"
     ]
    }
   ],
   "source": [
    "model_name =  'Unet_Tanh_1'   # Nombre del modelo\n",
    "image_size = 256                    # Tamano de las imágenes\n",
    "batch_size = 8                      # Tamano del batch\n",
    "f = [64, 128, 256, 512, 1024]       # Numéro de capas convolucionales\n",
    "activation = 'tanh'              # Función de activación\n",
    "adam_value = 0.00005                # Valor Adam\n",
    "epochs = 5                         # Número de épocas\n",
    "Adam = keras.optimizers.Adam(learning_rate=adam_value)\n",
    "\n",
    "# Generación de datos a partir de función\n",
    "train_gen = SegGen(train_ids, train_path_rx, train_path_mask, batch_size=batch_size, image_size=image_size)\n",
    "valid_gen = SegGen(validation_ids, validation_path_rx, validation_path_mask, batch_size=batch_size, image_size=image_size)\n",
    "\n",
    "train_steps = len(train_ids)//batch_size\n",
    "valid_steps = len(validation_ids)//batch_size\n",
    "\n",
    "model = UNet( image_size, f , activation)  # Creación del modelo U-Net\n",
    "model.compile(optimizer=Adam, loss=\"binary_crossentropy\", metrics=[\"acc\"])  # Ajuste de hiperparametros\n",
    "# Entrenamiento del modelo\n",
    "history = model.fit(train_gen, validation_data=valid_gen, steps_per_epoch=train_steps, validation_steps=valid_steps, epochs=epochs, verbose=1)\n",
    "\n",
    "Acuracy.append(history.history['val_acc'])\n",
    "Loss.append(history.history['val_loss'])\n",
    "\n",
    "path_save = os.path.join(path_save_modelos,model_name + '.keras') # Guardado del modelo\n",
    "model.save(path_save)"
   ]
  },
  {
   "cell_type": "code",
   "execution_count": 8,
   "metadata": {},
   "outputs": [
    {
     "name": "stdout",
     "output_type": "stream",
     "text": [
      "Epoch 1/5\n",
      "2714/2714 [==============================] - 596s 218ms/step - loss: 3.5819 - acc: 0.7678 - val_loss: 3.5916 - val_acc: 0.7672\n",
      "Epoch 2/5\n",
      "2714/2714 [==============================] - 446s 164ms/step - loss: 3.6367 - acc: 0.7642 - val_loss: 3.8077 - val_acc: 0.7531\n",
      "Epoch 3/5\n",
      "2714/2714 [==============================] - 202s 74ms/step - loss: 3.6135 - acc: 0.7657 - val_loss: 3.8077 - val_acc: 0.7531\n",
      "Epoch 4/5\n",
      "2714/2714 [==============================] - 202s 74ms/step - loss: 3.6310 - acc: 0.7646 - val_loss: 3.8077 - val_acc: 0.7531\n",
      "Epoch 5/5\n",
      "2714/2714 [==============================] - 202s 74ms/step - loss: 3.6558 - acc: 0.7630 - val_loss: 3.8077 - val_acc: 0.7531\n"
     ]
    }
   ],
   "source": [
    "model_name =  'Unet_Tanh_2'   # Nombre del modelo\n",
    "image_size = 256                    # Tamano de las imágenes\n",
    "batch_size = 8                      # Tamano del batch\n",
    "f = [64, 128, 256, 512, 1024]       # Numéro de capas convolucionales\n",
    "activation = 'tanh'              # Función de activación\n",
    "adam_value = 0.00001                # Valor Adam\n",
    "epochs = 5                         # Número de épocas\n",
    "Adam = keras.optimizers.Adam(learning_rate=adam_value)\n",
    "\n",
    "# Generación de datos a partir de función\n",
    "train_gen = SegGen(train_ids, train_path_rx, train_path_mask, batch_size=batch_size, image_size=image_size)\n",
    "valid_gen = SegGen(validation_ids, validation_path_rx, validation_path_mask, batch_size=batch_size, image_size=image_size)\n",
    "\n",
    "train_steps = len(train_ids)//batch_size\n",
    "valid_steps = len(validation_ids)//batch_size\n",
    "\n",
    "model = UNet( image_size, f , activation)  # Creación del modelo U-Net\n",
    "model.compile(optimizer=Adam, loss=\"binary_crossentropy\", metrics=[\"acc\"])  # Ajuste de hiperparametros\n",
    "# Entrenamiento del modelo\n",
    "history = model.fit(train_gen, validation_data=valid_gen, steps_per_epoch=train_steps, validation_steps=valid_steps, epochs=epochs, verbose=1)\n",
    "\n",
    "Acuracy.append(history.history['val_acc'])\n",
    "Loss.append(history.history['val_loss'])\n",
    "\n",
    "path_save = os.path.join(path_save_modelos,model_name + '.keras') # Guardado del modelo\n",
    "model.save(path_save)"
   ]
  },
  {
   "cell_type": "code",
   "execution_count": 9,
   "metadata": {},
   "outputs": [
    {
     "name": "stdout",
     "output_type": "stream",
     "text": [
      "Modelo sigmoid_1 Precisión : 0.753143846988678\n"
     ]
    },
    {
     "data": {
      "text/plain": [
       "<matplotlib.legend.Legend at 0x1ff06bdafd0>"
      ]
     },
     "execution_count": 9,
     "metadata": {},
     "output_type": "execute_result"
    },
    {
     "data": {
      "image/png": "[encoded data removed]",
      "text/plain": [
       "<Figure size 640x480 with 1 Axes>"
      ]
     },
     "metadata": {},
     "output_type": "display_data"
    }
   ],
   "source": [
    "modelos = ['sigmoid_1','sigmoid_2',\"tanh_1\",\"tanh_2\"]\n",
    "plt.figure()\n",
    "plt.title(f' Gráfica de Precisión Modelos Unet')\n",
    "plt.xlabel(' # Epocas')\n",
    "plt.ylabel(' Magnitud de Acuracy')\n",
    "plt.grid()\n",
    "ac_max = 0\n",
    "\n",
    "for i,ac in enumerate(Acuracy):\n",
    "    plt.plot(ac)\n",
    "    print(f'Modelo {modelos[i]} Precisión : {ac[-1]}')\n",
    "\n",
    "    if ac[-1] > ac_max:\n",
    "        ac_max = ac[-1]\n",
    "        model_final = modelos[i]\n",
    "\n",
    "plt.legend(modelos)\n",
    "\n",
    "path_save = os.path.join(path_save_modelos,\"AcuracyModelos.png\")\n",
    "plt.savefig(path_save)"
   ]
  },
  {
   "cell_type": "code",
   "execution_count": 10,
   "metadata": {},
   "outputs": [
    {
     "name": "stdout",
     "output_type": "stream",
     "text": [
      "Modelo sigmoid_1 Precisión : 3.80774188041687\n"
     ]
    },
    {
     "data": {
      "text/plain": [
       "<matplotlib.legend.Legend at 0x1ff0dacddc0>"
      ]
     },
     "execution_count": 10,
     "metadata": {},
     "output_type": "execute_result"
    },
    {
     "data": {
      "image/png": "[encoded data removed]",
      "text/plain": [
       "<Figure size 640x480 with 1 Axes>"
      ]
     },
     "metadata": {},
     "output_type": "display_data"
    }
   ],
   "source": [
    "plt.figure()\n",
    "plt.title(f' Gráfica de Perdida Modelos Unet')\n",
    "plt.xlabel(' # Epocas')\n",
    "plt.ylabel(' Magnitud de perdida')\n",
    "plt.grid()\n",
    "\n",
    "for i,ac in enumerate(Loss):\n",
    "    plt.plot(ac)\n",
    "    print(f'Modelo {modelos[i]} Precisión : {ac[-1]}')\n",
    "plt.legend(modelos)\n",
    "\n",
    "path_save = os.path.join(path_save_modelos,\"AcuracyModelos.png\")\n",
    "plt.savefig(path_save)"
   ]
  },
  {
   "cell_type": "code",
   "execution_count": null,
   "metadata": {},
   "outputs": [],
   "source": [
    "# Mover modelo final de carpeta\n",
    "path_origen = os.path.join(path_save_modelos,model_final + \".keras\")\n",
    "path_destino = os.path.join(os.path.split(path_save_modelos)[0], \"ModelSegmenta.keras\")\n",
    "shutil.copy(path_origen,path_destino)"
   ]
  }
 ],
 "metadata": {
  "kernelspec": {
   "display_name": "tf",
   "language": "python",
   "name": "python3"
  },
  "language_info": {
   "codemirror_mode": {
    "name": "ipython",
    "version": 3
   },
   "file_extension": ".py",
   "mimetype": "text/x-python",
   "name": "python",
   "nbconvert_exporter": "python",
   "pygments_lexer": "ipython3",
   "version": "3.9.18"
  }
 },
 "nbformat": 4,
 "nbformat_minor": 2
}
